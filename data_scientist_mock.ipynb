{
 "cells": [
  {
   "cell_type": "markdown",
   "metadata": {},
   "source": [
    "# 🔵 Game Lounge ⚪️\n",
    "\n",
    "## Data Scientist Mock Test ⚽️"
   ]
  },
  {
   "cell_type": "markdown",
   "metadata": {},
   "source": [
    "<u>Name:</u> <br>\n",
    "<u>Email:</u> "
   ]
  },
  {
   "cell_type": "markdown",
   "metadata": {},
   "source": [
    "If possible, ensure that the solution is runnable on Python version 3.6.X where X can be any version.\n",
    "\n",
    "Upon concluding this task, kindly send the final version as a Notebook and an HTML file to the HR department through the BambooHR email thread. Please make sure that the entire Jupyter Notebook can run without any errors. You can validate this by restarting the kernel and rerunning all of the cells."
   ]
  },
  {
   "cell_type": "markdown",
   "metadata": {},
   "source": [
    "## Mock Test Explanation\n",
    "\n",
    "This mock will be split into two main tasks. All of the tasks will be oriented to football (⚽️). Collectively, the entire test should take around 3-5 hours to complete. Please stop if it is taking you too much time and send us your partial submission.\n",
    "\n",
    "The first task will mainly assess your mathematical knowledge. In the second task, you will then be provided with a custom dataset to conduct some ML/AI-oriented development. Kindly showcase your data manipulation, transformation and analytical skills throughout the entire test. Also provide in-line documentation where required.\n",
    "\n",
    "Should you have any questions, feel free to reach out to us by email and we will get back to you accordingly. Good luck!"
   ]
  },
  {
   "cell_type": "markdown",
   "metadata": {},
   "source": [
    "### Modules & Packages"
   ]
  },
  {
   "cell_type": "code",
   "execution_count": null,
   "metadata": {},
   "outputs": [],
   "source": [
    "# Prescribe any required modules or packages here"
   ]
  },
  {
   "cell_type": "markdown",
   "metadata": {},
   "source": [
    "### Task 01 - Mathematics & Statistics\n",
    "\n",
    "<i>The datasets used in this section were obtained from <a href=\"https://football-data.co.uk/\" target=\"_blank\">football-data.co.uk</a>. For information about the fields within the datasets, kindly refer to this <a href=\"https://www.football-data.co.uk/notes.txt\" target=\"_blank\">notes</a> file.</i>\n",
    "\n",
    "In this task, you are requested to do the following:\n",
    "<ol>\n",
    "    <li>Concatenate all of the data files found within the <code>datasets/task_01</code> folder into one DataFrame</li>\n",
    "    <li>If required, conduct any necessary data cleaning and only keep <code>B365H</code>, <code>B365D</code> and <code>B365A</code> from the betting (odds) columns</li>\n",
    "    <li>Using a distribution function of your choice (such as the Poisson distribution), predict the outcome (H/D/A) of the <b>last match day of every league</b></li>\n",
    "    <li>Provide a score matrix for the Arsenal against Everton match (i.e the probability of the score from 0-0, 1-0 ... up until 9-9)</li>\n",
    "    <li>Data exploration</li>\n",
    "    <li>Explain your thought process</li>\n",
    "</ol>\n",
    "\n",
    "To achieve the above, group and aggregate the data within the files as required. Make sure that every team is listed (predicted) at least once."
   ]
  },
  {
   "cell_type": "markdown",
   "metadata": {},
   "source": [
    "#### 01 - DataFrame Concatenation"
   ]
  },
  {
   "cell_type": "code",
   "execution_count": null,
   "metadata": {},
   "outputs": [],
   "source": []
  },
  {
   "cell_type": "markdown",
   "metadata": {},
   "source": [
    "#### 02 - Data Manipulation"
   ]
  },
  {
   "cell_type": "code",
   "execution_count": null,
   "metadata": {},
   "outputs": [],
   "source": []
  },
  {
   "cell_type": "markdown",
   "metadata": {},
   "source": [
    "#### 03 - Predict Results"
   ]
  },
  {
   "cell_type": "code",
   "execution_count": null,
   "metadata": {},
   "outputs": [],
   "source": [
    "# If required, break this section into further cells for better visualisation\n",
    "# In addition, feel free to experiment with any strategies as per your liking"
   ]
  },
  {
   "cell_type": "code",
   "execution_count": null,
   "metadata": {},
   "outputs": [],
   "source": [
    "# Use the 'display()' function to showcase the final DataFrame containing predictions, like so:\n",
    "# Date | Home Team | Away Team | Prediction | [other relevant metrics (if necessary)]"
   ]
  },
  {
   "cell_type": "markdown",
   "metadata": {},
   "source": [
    "#### 04 - Score Matrix"
   ]
  },
  {
   "cell_type": "code",
   "execution_count": null,
   "metadata": {},
   "outputs": [],
   "source": []
  },
  {
   "cell_type": "markdown",
   "metadata": {},
   "source": [
    "#### 05 - Data Exploration"
   ]
  },
  {
   "cell_type": "code",
   "execution_count": null,
   "metadata": {},
   "outputs": [],
   "source": [
    "# Compute the prediction accuracy (%) of the last match day for every independent league"
   ]
  },
  {
   "cell_type": "code",
   "execution_count": null,
   "metadata": {},
   "outputs": [],
   "source": [
    "# For every correct prediction, assume a pre-match bet of €10 and multiply it by the odds to get the winnings\n",
    "# For incorrect predictions, simply deduct €10\n",
    "\n",
    "# What was the sum invested and return for every league on the last match day?"
   ]
  },
  {
   "cell_type": "markdown",
   "metadata": {},
   "source": [
    "#### 06 - Explanation\n",
    "\n",
    "There are no right or wrong answers in this section. This part is mainly here to help us understand your thought process and to justify your reasoning."
   ]
  },
  {
   "cell_type": "markdown",
   "metadata": {},
   "source": [
    "<u>Q:</u> Why did you choose that particular distribution function?<br>\n",
    "<u>A:</u> \n",
    "<br><br>\n",
    "\n",
    "<u>Q:</u> Was the distribution of choice ideal for correct score predictions? Kindly elaborate.<br>\n",
    "<u>A:</u> \n",
    "<br><br>\n",
    "\n",
    "<u>Q:</u> Given the data that was available, what other metrics would you predict and why?<br>\n",
    "<u>A:</u> \n",
    "<br><br>\n",
    "\n",
    "<u>Q:</u> How would you determine whether a prediction is a safe bet or not? In other words, what would you do to maximise your profits?<br>\n",
    "<u>A:</u> \n",
    "<br><br>\n",
    "\n",
    "<u>Q:</u> Anything else that you would like to mention?<br>\n",
    "<u>A:</u> "
   ]
  },
  {
   "attachments": {},
   "cell_type": "markdown",
   "metadata": {},
   "source": [
    "#### Task 02 - Machine Learning\n",
    "\n",
    "The datasets provided for this task can be found in the <code>datasets/task_02</code> folder and are custom-built. Therefore, you will not find anything on the web related to them.\n",
    "\n",
    "With that said, here are some notes:\n",
    "<ul>\n",
    "    <li><code>football_ml_dataset</code> is the main dataset that you will be using for ML</li>\n",
    "    <li><code>football_fixtures_odds</code> is a complementary dataset to determine profitability later on in this section</li>\n",
    "    <li>You can join the above datasets on the <code>fixture_id</code> field</li>\n",
    "</ul>\n",
    "\n",
    "\n",
    "#### football_ml_dataset Explanation\n",
    "<ul>\n",
    "    <li>Fields with a <code>s_</code> prefix represent the season average of that particular metric for that particular home or away team</li>\n",
    "    <li>Fields with a <code>l5_</code> prefix represent the average retrieved from the latest 5 games of that particular metric for that particular home or away team</li>\n",
    "    <li><code>exp_home_goals_ft</code> represents a value that was predicted through a statistical distribution</li>\n",
    "    <li><code>exp_away_goals_ft</code> represents a value that was predicted through a statistical distribution</li>\n",
    "    <li><code>result_prob_ft_home</code> represents a value that was predicted through a statistical distribution</li>\n",
    "    <li><code>result_prob_ft_draw</code> represents a value that was predicted through a statistical distribution</li>\n",
    "    <li><code>result_prob_ft_away</code> represents a value that was predicted through a statistical distribution</li>\n",
    "    <li>The remaining fields (i.e the first few columns) are what distinguishes a record from another</li>\n",
    "    <li><code>full_time_result</code> is the actual end result for that particular match (0 = D, 1 = H, 2 = A) </li>\n",
    "</ul>\n",
    "\n",
    "In this task, you are requested to do the following:\n",
    "<ol>\n",
    "    <li>Prepare the dataset for ML training (make sure to drop the <code>fixture_id</code> and <code>full_time_result</code> fields beforehand)</li>\n",
    "    <li>If you feel that it is necessary, drop any other fields which might hinder the outputted predictions</li>\n",
    "    <li>Perform an 80/20 split using a random seed value of 42</li>\n",
    "    <li>Experiment with your desired ML algorithms and try to achieve good results</li>\n",
    "    <li>Perform dimensionality reduction</li>\n",
    "    <li>Data exploration and visualisation</li>\n",
    "    <li>Explain your thought process</li>\n",
    "</ol>"
   ]
  },
  {
   "cell_type": "markdown",
   "metadata": {},
   "source": [
    "#### 01 - Dataset Preperation"
   ]
  },
  {
   "cell_type": "code",
   "execution_count": null,
   "metadata": {},
   "outputs": [],
   "source": []
  },
  {
   "cell_type": "markdown",
   "metadata": {},
   "source": [
    "#### 02 - Additional Cleaning (If Necessary)"
   ]
  },
  {
   "cell_type": "code",
   "execution_count": null,
   "metadata": {},
   "outputs": [],
   "source": []
  },
  {
   "cell_type": "markdown",
   "metadata": {},
   "source": [
    "#### 03 - Train, Test, Split"
   ]
  },
  {
   "cell_type": "code",
   "execution_count": null,
   "metadata": {},
   "outputs": [],
   "source": []
  },
  {
   "cell_type": "markdown",
   "metadata": {},
   "source": [
    "#### 04 - Machine Learning"
   ]
  },
  {
   "cell_type": "code",
   "execution_count": null,
   "metadata": {},
   "outputs": [],
   "source": [
    "# If required, break this section into further cells for better visualisation\n",
    "# In addition, feel free to experiment with any strategies as per your liking"
   ]
  },
  {
   "cell_type": "code",
   "execution_count": null,
   "metadata": {},
   "outputs": [],
   "source": [
    "# Use the 'display()' function to showcase the final DataFrame containing predictions, like so:\n",
    "# Fixture ID | Home Team ID | Away Team ID | Prediction | [other relevant metrics (if necessary)]"
   ]
  },
  {
   "cell_type": "markdown",
   "metadata": {},
   "source": [
    "#### 05 - Dimensionality Reduction"
   ]
  },
  {
   "cell_type": "code",
   "execution_count": null,
   "metadata": {},
   "outputs": [],
   "source": []
  },
  {
   "cell_type": "markdown",
   "metadata": {},
   "source": [
    "#### 06 - Data Exploration & Visualisation"
   ]
  },
  {
   "cell_type": "code",
   "execution_count": null,
   "metadata": {},
   "outputs": [],
   "source": [
    "# Showcase a correlation matrix of the fields that you decided to keep"
   ]
  },
  {
   "cell_type": "code",
   "execution_count": null,
   "metadata": {},
   "outputs": [],
   "source": [
    "# Provide a confusion matrix"
   ]
  },
  {
   "cell_type": "code",
   "execution_count": null,
   "metadata": {},
   "outputs": [],
   "source": [
    "# Compute the prediction accuracy (%) of every season"
   ]
  },
  {
   "cell_type": "code",
   "execution_count": null,
   "metadata": {},
   "outputs": [],
   "source": [
    "# Compute the prediction accuracy (%) of every league"
   ]
  },
  {
   "cell_type": "code",
   "execution_count": null,
   "metadata": {},
   "outputs": [],
   "source": [
    "# For every correct prediction, assume a pre-match bet of €10 and multiply it by the odds to get the winnings\n",
    "# For incorrect predictions, simply deduct €10\n",
    "\n",
    "# Note: Exclude any fixtures that have malformed or NULL data in the 'football_fixtures_odds' dataset\n",
    "\n",
    "# What was the sum invested and return for every season and every league id?"
   ]
  },
  {
   "cell_type": "markdown",
   "metadata": {},
   "source": [
    "#### 07 - Explanation\n",
    "\n",
    "There are no right or wrong answers in this section. This part is mainly here to help us understand your thought process and to justify your reasoning."
   ]
  },
  {
   "cell_type": "markdown",
   "metadata": {},
   "source": [
    "<u>Q:</u> What was your reasoning for feature selection prior to training?<br>\n",
    "<u>A:</u> \n",
    "<br><br>\n",
    "\n",
    "<u>Q:</u> Why did you choose those paricular ML models and parameters? Kindly elaborate.<br>\n",
    "<u>A:</u> \n",
    "<br><br>\n",
    "\n",
    "<u>Q:</u> If additional data was available, what other fields would have been <i>potentially</i> useful whilst training and why?<br>\n",
    "<u>A:</u> \n",
    "<br><br>\n",
    "\n",
    "<u>Q:</u> What would you do to maximise your profits using the classifications retrieved?<br>\n",
    "<u>A:</u> \n",
    "<br><br>\n",
    "\n",
    "<u>Q:</u> Anything else that you would like to mention?<br>\n",
    "<u>A:</u> "
   ]
  },
  {
   "cell_type": "markdown",
   "metadata": {},
   "source": [
    "## Concluding Statement\n",
    "\n",
    "Thanks for your time and commitment. You will hear from us again after reviewing your submission. Cheers!"
   ]
  }
 ],
 "metadata": {
  "kernelspec": {
   "display_name": "Python 3",
   "language": "python",
   "name": "python3"
  },
  "language_info": {
   "codemirror_mode": {
    "name": "ipython",
    "version": 3
   },
   "file_extension": ".py",
   "mimetype": "text/x-python",
   "name": "python",
   "nbconvert_exporter": "python",
   "pygments_lexer": "ipython3",
   "version": "3.8.5"
  }
 },
 "nbformat": 4,
 "nbformat_minor": 4
}
